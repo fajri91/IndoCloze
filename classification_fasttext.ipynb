{
 "cells": [
  {
   "cell_type": "code",
   "execution_count": 2,
   "metadata": {},
   "outputs": [],
   "source": [
    "import pandas  as pd\n",
    "\n",
    "def read_data(fname, num_sent=4):\n",
    "    contexts = []\n",
    "    endings = []\n",
    "    labels = []\n",
    "    data = pd.read_csv(fname)\n",
    "    for idx, row in data.iterrows():\n",
    "        sents = []\n",
    "        for i in [4,3,2,1]:\n",
    "            if len(sents) == num_sent:\n",
    "                break\n",
    "            sents.insert(0, row[f'Kalimat-{i}'])\n",
    "        context = ' '.join(sents) # row['Kalimat-1'] +' '+ row['Kalimat-2'] +' '+ row['Kalimat-3'] +' '+ row['Kalimat-4']\n",
    "        ending1 = row['Correct Ending']\n",
    "        ending2 = row['Incorrect Ending']\n",
    "        \n",
    "        contexts.append(context)\n",
    "        endings.append(ending1)\n",
    "        labels.append(1)\n",
    "        \n",
    "        contexts.append(context)\n",
    "        endings.append(ending2)\n",
    "        labels.append(0)\n",
    "    return contexts, endings, labels"
   ]
  },
  {
   "cell_type": "code",
   "execution_count": 4,
   "metadata": {},
   "outputs": [],
   "source": [
    "import io\n",
    "\n",
    "def load_vectors(fname, word_index):\n",
    "    fin = io.open(fname, 'r', encoding='utf-8', newline='\\n', errors='ignore')\n",
    "    n, d = map(int, fin.readline().split())\n",
    "    data = {}\n",
    "    for line in fin:\n",
    "        tokens = line.rstrip().split(' ')\n",
    "        if word_index.get(tokens[0],-1) != -1:\n",
    "            data[tokens[0]] = list(map(float, tokens[1:]))\n",
    "    return data\n",
    "\n",
    "contexts, endings, _ = read_data('Data/data_id/test.csv', 4)\n",
    "all_sentences = contexts + endings\n",
    "word_index = {}\n",
    "\n",
    "for sentence in all_sentences:\n",
    "    for word in sentence.split():\n",
    "        word_index[word.lower()] = 1\n",
    "\n",
    "vecs = load_vectors('cc.id.300.vec', word_index)"
   ]
  },
  {
   "cell_type": "code",
   "execution_count": 10,
   "metadata": {},
   "outputs": [],
   "source": [
    "from numpy import dot\n",
    "from numpy.linalg import norm\n",
    "import numpy as np\n",
    "\n",
    "\n",
    "def cos_sim(a,b):\n",
    "    return dot(a, b)/(norm(a)*norm(b))\n",
    "\n",
    "def get_score(sent1, sent2):\n",
    "    arr1 = np.zeros(300)\n",
    "    for word in sent1.split():\n",
    "        if vecs.get(word.lower(), 0) != 0:\n",
    "            arr1+=vecs.get(word.lower())\n",
    "    \n",
    "    arr2 = np.zeros(300)\n",
    "    for word in sent2.split():\n",
    "        if vecs.get(word.lower(), 0) != 0:\n",
    "            arr2+=vecs.get(word.lower())\n",
    "    arr1 = arr1 / len(sent1.split())       \n",
    "    arr2 = arr2 / len(sent2.split())\n",
    "    return cos_sim(arr1, arr2)"
   ]
  },
  {
   "cell_type": "code",
   "execution_count": 11,
   "metadata": {},
   "outputs": [
    {
     "name": "stdout",
     "output_type": "stream",
     "text": [
      "1 0.5894273127753304\n",
      "2 0.6229074889867842\n",
      "3 0.6246696035242291\n",
      "4 0.6255506607929515\n"
     ]
    }
   ],
   "source": [
    "for num_sent in [1,2,3,4]:\n",
    "    scores = []; true = 0; idy = 0\n",
    "    contexts, endings, _ = read_data('Data/data_id/test.csv', num_sent)\n",
    "    for idx, context in enumerate(contexts):\n",
    "        scores.append(get_score(context, endings[idx]))\n",
    "    while idy < len(scores):\n",
    "        if scores[idy] > scores[idy+1]:\n",
    "            true+=1        \n",
    "        idy+=2\n",
    "    print(num_sent, true/(len(contexts)/2))"
   ]
  },
  {
   "cell_type": "code",
   "execution_count": null,
   "metadata": {},
   "outputs": [],
   "source": []
  }
 ],
 "metadata": {
  "kernelspec": {
   "display_name": "Python 3",
   "language": "python",
   "name": "python3"
  },
  "language_info": {
   "codemirror_mode": {
    "name": "ipython",
    "version": 3
   },
   "file_extension": ".py",
   "mimetype": "text/x-python",
   "name": "python",
   "nbconvert_exporter": "python",
   "pygments_lexer": "ipython3",
   "version": "3.7.6"
  }
 },
 "nbformat": 4,
 "nbformat_minor": 4
}
