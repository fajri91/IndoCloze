{
 "cells": [
  {
   "cell_type": "code",
   "execution_count": null,
   "metadata": {},
   "outputs": [],
   "source": [
    "import pandas  as pd\n",
    "\n",
    "def read_data(fname, num_sent=4):\n",
    "    contexts = []\n",
    "    endings = []\n",
    "    labels = []\n",
    "    data = pd.read_csv(fname)\n",
    "    for idx, row in data.iterrows():\n",
    "        sents = []\n",
    "        for i in [4,3,2,1]:\n",
    "            if len(sents) == num_sent:\n",
    "                break\n",
    "            sents.insert(0, row[f'Kalimat-{i}'])\n",
    "        context = ' '.join(sents) # row['Kalimat-1'] +' '+ row['Kalimat-2'] +' '+ row['Kalimat-3'] +' '+ row['Kalimat-4']\n",
    "        ending1 = row['Correct Ending']\n",
    "        ending2 = row['Incorrect Ending']\n",
    "        \n",
    "        contexts.append(context)\n",
    "        endings.append(ending1)\n",
    "        labels.append(1)\n",
    "        \n",
    "        contexts.append(context)\n",
    "        endings.append(ending2)\n",
    "        labels.append(0)\n",
    "    return contexts, endings, labels"
   ]
  },
  {
   "cell_type": "code",
   "execution_count": null,
   "metadata": {},
   "outputs": [],
   "source": [
    "import pyrouge, shutil\n",
    "import logging, os\n",
    "\n",
    "pyrouge_tools = '/home/ffajri/Workspace/pyrouge/tools/ROUGE-1.5.5'\n",
    "def rouge_eval(ref_dir, dec_dir):\n",
    "    \"\"\"Evaluate the files in ref_dir and dec_dir with pyrouge, returning results_dict\"\"\"\n",
    "    r = pyrouge.Rouge155(pyrouge_tools)\n",
    "    r.model_filename_pattern = '#ID#'\n",
    "    r.system_filename_pattern = '(\\d+)'\n",
    "    r.model_dir = ref_dir\n",
    "    r.system_dir = dec_dir\n",
    "    logging.getLogger('global').setLevel(\n",
    "        logging.WARNING)  # silence pyrouge logging\n",
    "    rouge_results = r.convert_and_evaluate()\n",
    "    return r.output_to_dict(rouge_results)\n",
    "\n",
    "\n",
    "def rouge(context, option):\n",
    "    gold_temp = 'temp_gold'\n",
    "    pred_temp = 'temp_pred'\n",
    "        \n",
    "    if os.path.exists(gold_temp):\n",
    "        shutil.rmtree(gold_temp)\n",
    "        shutil.rmtree(pred_temp)\n",
    "    os.makedirs(gold_temp)\n",
    "    os.makedirs(pred_temp)\n",
    "    open(gold_temp+'/0', 'w').write(context)\n",
    "    open(pred_temp+'/0', 'w').write(option)\n",
    "    \n",
    "    results_dict = rouge_eval(gold_temp, pred_temp)\n",
    "    return results_dict['rouge_1_f_score']"
   ]
  },
  {
   "cell_type": "code",
   "execution_count": null,
   "metadata": {},
   "outputs": [],
   "source": [
    "for num_sent in [1,2,3,4]:\n",
    "    scores = []; true = 0; idy = 0\n",
    "    contexts, endings, _ = read_data('Data/data_id/test.csv', num_sent)\n",
    "    for idx, context in enumerate(contexts):\n",
    "        scores.append(rouge(context, endings[idx]))\n",
    "    while idy < len(scores):\n",
    "        if scores[idy] > scores[idy+1]:\n",
    "            true+=1        \n",
    "        idy+=2\n",
    "    print(num_sent, true/(len(contexts)/2))"
   ]
  },
  {
   "cell_type": "code",
   "execution_count": null,
   "metadata": {},
   "outputs": [],
   "source": []
  }
 ],
 "metadata": {
  "kernelspec": {
   "display_name": "Python 3",
   "language": "python",
   "name": "python3"
  },
  "language_info": {
   "codemirror_mode": {
    "name": "ipython",
    "version": 3
   },
   "file_extension": ".py",
   "mimetype": "text/x-python",
   "name": "python",
   "nbconvert_exporter": "python",
   "pygments_lexer": "ipython3",
   "version": "3.7.6"
  }
 },
 "nbformat": 4,
 "nbformat_minor": 4
}
