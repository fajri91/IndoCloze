{
 "cells": [
  {
   "cell_type": "code",
   "execution_count": 9,
   "id": "903a789b",
   "metadata": {},
   "outputs": [],
   "source": [
    "import pandas as pd\n",
    "\n",
    "df = pd.read_csv('test_ID_zeroshot.csv')\n",
    "columns = ['Kalimat-1', 'Kalimat-2', 'Kalimat-3', 'Kalimat-4', 'Correct Ending', 'Zero-Shot Prediction']\n",
    "df = df[columns][:50]"
   ]
  },
  {
   "cell_type": "code",
   "execution_count": 10,
   "id": "83100c52",
   "metadata": {},
   "outputs": [
    {
     "data": {
      "text/plain": [
       "(50, 6)"
      ]
     },
     "execution_count": 10,
     "metadata": {},
     "output_type": "execute_result"
    }
   ],
   "source": [
    "df.shape"
   ]
  },
  {
   "cell_type": "code",
   "execution_count": 11,
   "id": "8346104c",
   "metadata": {},
   "outputs": [],
   "source": [
    "pred_path_ID = '/Users/fajrik/Workspace/pyrouge/EXP_story/exp3/result_test_id.5500.candidate'\n",
    "data_ID = '/Users/fajrik/Data/cloze/ID/data/test.csv'\n",
    "\n",
    "df_test = pd.read_csv(data_ID)\n",
    "pred = open(pred_path_ID).readlines()"
   ]
  },
  {
   "cell_type": "code",
   "execution_count": 23,
   "id": "2263bc2a",
   "metadata": {},
   "outputs": [],
   "source": [
    "import re\n",
    "\n",
    "sent2cloze = {}\n",
    "for idx, row in df_test.iterrows():\n",
    "    key = re.sub('[^A-Za-z0-9]+', '', row['Kalimat-1'])\n",
    "    sent2cloze[key] = pred[idx].replace('id_ID','').replace('\\n','').strip()"
   ]
  },
  {
   "cell_type": "code",
   "execution_count": 24,
   "id": "c4f93af4",
   "metadata": {},
   "outputs": [],
   "source": [
    "train_in_id = []\n",
    "for idx, row in df.iterrows():\n",
    "    key = re.sub('[^A-Za-z0-9]+', '', row['Kalimat-1'])\n",
    "    train_in_id.append(sent2cloze[key])"
   ]
  },
  {
   "cell_type": "code",
   "execution_count": 25,
   "id": "5b00e37c",
   "metadata": {},
   "outputs": [],
   "source": [
    "df['Train with ID'] = train_in_id"
   ]
  },
  {
   "cell_type": "code",
   "execution_count": 29,
   "id": "1cf46637",
   "metadata": {},
   "outputs": [
    {
     "data": {
      "text/plain": [
       "Index(['Kalimat-1', 'Kalimat-2', 'Kalimat-3', 'Kalimat-4', 'Correct Ending',\n",
       "       'Zero-Shot Prediction', 'Train with ID'],\n",
       "      dtype='object')"
      ]
     },
     "execution_count": 29,
     "metadata": {},
     "output_type": "execute_result"
    }
   ],
   "source": [
    "df.columns"
   ]
  },
  {
   "cell_type": "code",
   "execution_count": 30,
   "id": "ac742960",
   "metadata": {},
   "outputs": [],
   "source": [
    "k1=[]; k2=[]; k3=[]; k4=[]; cloze=[]; tipe=[]\n",
    "\n",
    "for idx, row in df.iterrows():\n",
    "    k1+=[row['Kalimat-1']] * 3\n",
    "    k2+=[row['Kalimat-2']] * 3\n",
    "    k3+=[row['Kalimat-3']] * 3\n",
    "    k4+=[row['Kalimat-4']] * 3\n",
    "    cloze.append(row['Correct Ending'])\n",
    "    cloze.append(row['Zero-Shot Prediction'])\n",
    "    cloze.append(row['Train with ID'])\n",
    "    tipe += ['gold', 'zero_shot', 'train_id']"
   ]
  },
  {
   "cell_type": "code",
   "execution_count": 33,
   "id": "aa610fbd",
   "metadata": {},
   "outputs": [],
   "source": [
    "new_df = pd.DataFrame()\n",
    "new_df['tipe'] = tipe\n",
    "new_df['Kalimat-1'] = k1\n",
    "new_df['Kalimat-2'] = k2\n",
    "new_df['Kalimat-3'] = k3\n",
    "new_df['Kalimat-4'] = k4\n",
    "new_df['Kalimat-5'] = cloze\n",
    "new_df = new_df.sample(frac = 1)"
   ]
  },
  {
   "cell_type": "code",
   "execution_count": 34,
   "id": "ada8c34b",
   "metadata": {},
   "outputs": [],
   "source": [
    "new_df.to_excel('human_annotation.xlsx', index=False)"
   ]
  },
  {
   "cell_type": "code",
   "execution_count": null,
   "id": "f387c4f6",
   "metadata": {},
   "outputs": [],
   "source": []
  }
 ],
 "metadata": {
  "kernelspec": {
   "display_name": "Python 3",
   "language": "python",
   "name": "python3"
  },
  "language_info": {
   "codemirror_mode": {
    "name": "ipython",
    "version": 3
   },
   "file_extension": ".py",
   "mimetype": "text/x-python",
   "name": "python",
   "nbconvert_exporter": "python",
   "pygments_lexer": "ipython3",
   "version": "3.8.8"
  }
 },
 "nbformat": 4,
 "nbformat_minor": 5
}
